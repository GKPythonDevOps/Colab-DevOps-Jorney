{
  "nbformat": 4,
  "nbformat_minor": 0,
  "metadata": {
    "colab": {
      "name": "Goutham_DevOps_Journey.ipynb",
      "provenance": [],
      "collapsed_sections": [],
      "toc_visible": true,
      "authorship_tag": "ABX9TyMLdcpf4dik7iImlV7p1twI",
      "include_colab_link": true
    },
    "kernelspec": {
      "name": "python3",
      "display_name": "Python 3"
    },
    "language_info": {
      "name": "python"
    }
  },
  "cells": [
    {
      "cell_type": "markdown",
      "metadata": {
        "id": "view-in-github",
        "colab_type": "text"
      },
      "source": [
        "<a href=\"https://colab.research.google.com/github/GKPythonDevOps/Colab-DevOps-Jorney/blob/main/Goutham_DevOps_Journey.ipynb\" target=\"_parent\"><img src=\"https://colab.research.google.com/assets/colab-badge.svg\" alt=\"Open In Colab\"/></a>"
      ]
    },
    {
      "cell_type": "markdown",
      "metadata": {
        "id": "wOdhjMyeubcE"
      },
      "source": [
        "#DevOPS\n",
        "\n",
        "This is my Colab DevOps NoteBook"
      ]
    },
    {
      "cell_type": "markdown",
      "metadata": {
        "id": "YfGQHYNc7Hud"
      },
      "source": [
        "*   DevOps right now is a buzz word with lot of misconceptions\n",
        "*   There's no Specific Explanation or Process for DevOps\n",
        "*   DevOps means best Practices followed or to be followed\n",
        "*   Home Lab(Production like Environment) for Handson\n",
        "*   AAA (Attitude, Apptitude, Awareness)\n",
        "*   Who is Customer --> What is the Business ---> What value does it add to our organisation\n",
        "*   To write an application from Scratch, Automation\n",
        "*   SR.DevOps :- Dont just try to patch up things. He think about downstream systems and entire Architecture\n",
        "*   Ability to code, Opertions, Agile\n",
        "*   It is not a product, specification, or job title, but a decentralized experienced-based movement.\n",
        "*   https://www.reddit.com/r/homelab/\n",
        "\n",
        "\n",
        "*   List item\n",
        "*   List item\n",
        "\n",
        "\n",
        "\n",
        "\n",
        "\n",
        "\n",
        "\n",
        "\n",
        "\n",
        "\n",
        "\n",
        "\n",
        "\n",
        "\n",
        "\n",
        "\n",
        "\n"
      ]
    },
    {
      "cell_type": "code",
      "metadata": {
        "id": "gdvr3ayAxp49"
      },
      "source": [
        ""
      ],
      "execution_count": null,
      "outputs": []
    }
  ]
}