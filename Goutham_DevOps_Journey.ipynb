{
  "nbformat": 4,
  "nbformat_minor": 0,
  "metadata": {
    "colab": {
      "name": "Goutham_DevOps_Journey.ipynb",
      "provenance": [],
      "collapsed_sections": [],
      "toc_visible": true,
      "authorship_tag": "ABX9TyNlY6mBzzsv//Y3vk2LPj/S",
      "include_colab_link": true
    },
    "kernelspec": {
      "name": "python3",
      "display_name": "Python 3"
    },
    "language_info": {
      "name": "python"
    }
  },
  "cells": [
    {
      "cell_type": "markdown",
      "metadata": {
        "id": "view-in-github",
        "colab_type": "text"
      },
      "source": [
        "<a href=\"https://colab.research.google.com/github/GKPythonDevOps/Colab-DevOps-Jorney/blob/main/Goutham_DevOps_Journey.ipynb\" target=\"_parent\"><img src=\"https://colab.research.google.com/assets/colab-badge.svg\" alt=\"Open In Colab\"/></a>"
      ]
    },
    {
      "cell_type": "markdown",
      "metadata": {
        "id": "wOdhjMyeubcE"
      },
      "source": [
        "#DevOps\n",
        "\n",
        "This is my Colab DevOps NoteBook\n",
        "\n",
        "DevOps RoadMap\n",
        "\n",
        "![picture](https://drive.google.com/uc?id=141yAgJtsrvlMmABLRzDVCNtz5CBVxNYR)"
      ]
    },
    {
      "cell_type": "markdown",
      "metadata": {
        "id": "YfGQHYNc7Hud"
      },
      "source": [
        "*   DevOps right now is a buzz word with lot of misconceptions\n",
        "\n",
        "*   Collabration\n",
        "*   Continuos Feedback (Customer, Teams())\n",
        "\n",
        "\n",
        "*   Lean Devlopment/Management\n",
        "*   DevOps Culture/Mindset\n",
        "\n",
        "\n",
        "\n",
        "\n",
        "*   There's no Specific Explanation or Process for DevOps\n",
        "*   DevOps means best Practices followed or to be followed\n",
        "*   Home Lab(Production like Environment) for Handson\n",
        "*   AAA (Attitude, Apptitude, Awareness)\n",
        "*   Who is Customer --> What is the Business ---> What value does it add to our organisation\n",
        "*   To write an application from Scratch, Automation\n",
        "*   SR.DevOps :- Dont just try to patch up things. He think about downstream systems and entire Architecture\n",
        "*   Ability to code, Opertions, Agile\n",
        "*   It is not a product, specification, or job title, but a decentralized experienced-based movement.\n",
        "*   https://www.reddit.com/r/homelab/\n",
        "\n",
        "\n",
        "*   List item\n",
        "*   List item\n",
        "\n",
        "\n",
        "\n",
        "\n",
        "\n",
        "\n",
        "\n",
        "\n",
        "\n",
        "\n",
        "\n",
        "\n",
        "\n",
        "\n",
        "\n",
        "\n",
        "\n"
      ]
    },
    {
      "cell_type": "code",
      "metadata": {
        "id": "NNXu6NsGxm82"
      },
      "source": [
        ""
      ],
      "execution_count": null,
      "outputs": []
    },
    {
      "cell_type": "markdown",
      "metadata": {
        "id": "oOqA7XPX0_es"
      },
      "source": [
        "## DevOps Lessons\n",
        "\n",
        "\n",
        "\n",
        "*   Difference Between continuous Delivery and Deployment.\n",
        "*   Jenkins Runs on Port 8080. So in Ec2 Instance Security group Port 8080 must be enabled.\n",
        "\n",
        "\n",
        "*   Ec2 Instance, Connect, Uses Port 22\n",
        "*   IAMReadOnlyAccess --> role for Ec2 intance Connect\n",
        "\n",
        "\n",
        "*   sudo su -\n",
        "*   List item\n",
        "\n",
        "\n",
        "\n",
        "\n",
        "\n"
      ]
    },
    {
      "cell_type": "markdown",
      "metadata": {
        "id": "yoNnWdKvn8gb"
      },
      "source": [
        "# AWS\n",
        "200873232482\n",
        "\n",
        "Root User :- Goutham_aws\n",
        "\n",
        "User 1:- Goutham_User\n",
        "\n",
        "Shared Responsiblity covers most of the Questions\n",
        "\n",
        "if user1 wants to set Budget alerts then he needs a special premission from root user. that special is available in account settings of root user.\n"
      ]
    },
    {
      "cell_type": "markdown",
      "metadata": {
        "id": "5HkJqgVoOhe7"
      },
      "source": [
        "## TO install Jenkins in EC2 Instance\n",
        "\n",
        "Install Jenkins on AWS EC2\n",
        "Jenkins is a self-contained Java-based program, ready to run out-of-the-box, with packages for Windows, Mac OS X and other Unix-like operating systems. As an extensible automation server, Jenkins can be used as a simple CI server or turned into the continuous delivery hub for any project.\n",
        "\n",
        "Prerequisites\n",
        "EC2 Instance\n",
        "With Internet Access\n",
        "Security Group with Port 8080 open for internet\n",
        "Java 11 should be installed\n",
        "Install Jenkins\n",
        "You can install jenkins using the rpm or by setting up the repo. We will set up the repo so that we can update it easily in the future.\n",
        "\n",
        "Get the latest version of jenkins from https://pkg.jenkins.io/redhat-stable/ and install\n",
        "\n",
        "#on Ec2\n",
        "#sudo wget -O /etc/yum.repos.d/jenkins.repo https://pkg.jenkins.io/redhat-stable/jenkins.repo\n",
        "#sudo rpm --import https://pkg.jenkins.io/redhat-stable/jenkins.io.key\n",
        "#amazon-linux-extras install epel \n",
        "#amazon-linux-extras install java-openjdk11  \n",
        "#yum install jenkins\n",
        "#service jenkins start\n",
        "#chkconfig jenkins on (--Setup Jenkins to start at boot,)\n",
        "Accessing Jenkins\n",
        "By default jenkins runs at port 8080, You can access jenkins at\n",
        "\n",
        "http://YOUR-SERVER-PUBLIC-IP:8080\n",
        "Configure Jenkins\n",
        "The default Username is admin\n",
        "Grab the default password\n",
        "Password Location:/var/lib/jenkins/secrets/initialAdminPassword\n",
        "Skip Plugin Installation; We can do it later\n",
        "Change admin password\n",
        "Admin > Configure > Password\n",
        "Configure java path\n",
        "Manage Jenkins > Global Tool Configuration > JDK\n",
        "Create another admin user id\n",
        "Test Jenkins Jobs\n",
        "Create “new item”\n",
        "Enter an item name – My-First-Project\n",
        "Chose Freestyle project\n",
        "Under the Build section Execute shell: echo \"Welcome to Jenkins Demo\"\n",
        "Save your job\n",
        "Build job\n",
        "Check \"console output\""
      ]
    },
    {
      "cell_type": "code",
      "metadata": {
        "id": "ePHrNWtpoABq"
      },
      "source": [
        "Boot Strap Script\n",
        "\n",
        "#!/bin/bash\n",
        "# Use this for your user data (script from top to bottom)\n",
        "# install httpd (Linux 2 version)\n",
        "yum update -y\n",
        "yum install -y httpd\n",
        "systemctl start httpd\n",
        "systemctl enable httpd\n",
        "echo \"<h1>Hello World from $(hostname -f)</h1>\" > /var/www/html/index.html"
      ],
      "execution_count": null,
      "outputs": []
    },
    {
      "cell_type": "markdown",
      "metadata": {
        "id": "jqToxQUT071I"
      },
      "source": [
        "# Interview\n",
        "\n",
        "*   Binary, Octa and Hexadecimal\n",
        "*   List item\n",
        "\n",
        "\n"
      ]
    },
    {
      "cell_type": "code",
      "metadata": {
        "id": "-oeMdYFF1EZP"
      },
      "source": [
        ""
      ],
      "execution_count": null,
      "outputs": []
    },
    {
      "cell_type": "markdown",
      "metadata": {
        "id": "wAgwGo5TnhPK"
      },
      "source": [
        "# Questions Raised\n",
        "\n",
        "*   How to add images to Colab\n",
        "*   What is init.d in Linux Service Management? \n",
        "      https://www.geeksforgeeks.org/what-is-init-d-in-linux-service-management/\n",
        "      https://unix.stackexchange.com/questions/20357/how-can-i-make-a-script-in-etc-init-d-start-at-boot\n",
        "\n",
        "My Version:- Scripts available in \"Intid\" direstory are executed first as soon as linux is tirggered.\n",
        "\n",
        "*   What is systemd\n",
        "*   Difference between systemd and initd\n",
        "\n",
        "\n",
        "\n",
        "*   Program vs Process :-https://www.geeksforgeeks.org/introduction-of-process-management/\n",
        "*   Process Management in Linux :- https://www.geeksforgeeks.org/process-management-in-linux/\n",
        "\n",
        "\n",
        "\n",
        "*   how to iterate through [[],[],[]] using python\n",
        "*   what is culture? Change in mindset\n",
        "\n",
        "\n",
        "\n",
        "*   List item\n",
        "*   List item\n",
        "\n",
        "\n",
        "\n",
        "\n",
        "\n",
        "\n"
      ]
    },
    {
      "cell_type": "code",
      "metadata": {
        "id": "JCKjknkB5F6s"
      },
      "source": [
        ""
      ],
      "execution_count": null,
      "outputs": []
    },
    {
      "cell_type": "markdown",
      "metadata": {
        "id": "eY1DzuuzQuDC"
      },
      "source": [
        "# New Section"
      ]
    }
  ]
}