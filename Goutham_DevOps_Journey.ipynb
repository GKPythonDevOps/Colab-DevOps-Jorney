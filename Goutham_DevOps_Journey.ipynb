{
  "nbformat": 4,
  "nbformat_minor": 0,
  "metadata": {
    "colab": {
      "name": "Goutham_DevOps_Journey.ipynb",
      "provenance": [],
      "collapsed_sections": [],
      "toc_visible": true,
      "authorship_tag": "ABX9TyOmnu46Eh6obLTRlrnBDv4S",
      "include_colab_link": true
    },
    "kernelspec": {
      "name": "python3",
      "display_name": "Python 3"
    },
    "language_info": {
      "name": "python"
    }
  },
  "cells": [
    {
      "cell_type": "markdown",
      "metadata": {
        "id": "view-in-github",
        "colab_type": "text"
      },
      "source": [
        "<a href=\"https://colab.research.google.com/github/GKPythonDevOps/Colab-DevOps-Jorney/blob/main/Goutham_DevOps_Journey.ipynb\" target=\"_parent\"><img src=\"https://colab.research.google.com/assets/colab-badge.svg\" alt=\"Open In Colab\"/></a>"
      ]
    },
    {
      "cell_type": "markdown",
      "metadata": {
        "id": "wOdhjMyeubcE"
      },
      "source": [
        "#DevOPS\n",
        "\n",
        "This is my Colab DevOps NoteBook"
      ]
    },
    {
      "cell_type": "code",
      "metadata": {
        "colab": {
          "base_uri": "https://localhost:8080/"
        },
        "id": "2yEa5CkNravG",
        "outputId": "4079e4af-f193-4435-d170-b8053f7dbf80"
      },
      "source": [
        "print(\"DevOps\")"
      ],
      "execution_count": null,
      "outputs": [
        {
          "output_type": "stream",
          "name": "stdout",
          "text": [
            "DevOps\n"
          ]
        }
      ]
    },
    {
      "cell_type": "code",
      "metadata": {
        "colab": {
          "base_uri": "https://localhost:8080/"
        },
        "id": "tc0hQ39BuVgF",
        "outputId": "e9b77402-67eb-4f9f-aff7-25be78002424"
      },
      "source": [
        "print(\"goutham\")"
      ],
      "execution_count": null,
      "outputs": [
        {
          "output_type": "stream",
          "name": "stdout",
          "text": [
            "goutham\n"
          ]
        }
      ]
    }
  ]
}