{
  "nbformat": 4,
  "nbformat_minor": 0,
  "metadata": {
    "colab": {
      "name": "Goutham_DevOps_Journey.ipynb",
      "provenance": [],
      "collapsed_sections": [],
      "toc_visible": true,
      "authorship_tag": "ABX9TyOxQAdENp55DgX/r24oXQag",
      "include_colab_link": true
    },
    "kernelspec": {
      "name": "python3",
      "display_name": "Python 3"
    },
    "language_info": {
      "name": "python"
    }
  },
  "cells": [
    {
      "cell_type": "markdown",
      "metadata": {
        "id": "view-in-github",
        "colab_type": "text"
      },
      "source": [
        "<a href=\"https://colab.research.google.com/github/GKPythonDevOps/Colab-DevOps-Jorney/blob/main/Goutham_DevOps_Journey.ipynb\" target=\"_parent\"><img src=\"https://colab.research.google.com/assets/colab-badge.svg\" alt=\"Open In Colab\"/></a>"
      ]
    },
    {
      "cell_type": "markdown",
      "metadata": {
        "id": "wOdhjMyeubcE"
      },
      "source": [
        "#DevOps\n",
        "\n",
        "This is my Colab DevOps NoteBook\n",
        "\n",
        "DevOps RoadMap\n",
        "\n",
        "![picture](https://drive.google.com/uc?id=141yAgJtsrvlMmABLRzDVCNtz5CBVxNYR)"
      ]
    },
    {
      "cell_type": "markdown",
      "metadata": {
        "id": "YfGQHYNc7Hud"
      },
      "source": [
        "*   DevOps right now is a buzz word with lot of misconceptions\n",
        "*   There's no Specific Explanation or Process for DevOps\n",
        "*   DevOps means best Practices followed or to be followed\n",
        "*   Home Lab(Production like Environment) for Handson\n",
        "*   AAA (Attitude, Apptitude, Awareness)\n",
        "*   Who is Customer --> What is the Business ---> What value does it add to our organisation\n",
        "*   To write an application from Scratch, Automation\n",
        "*   SR.DevOps :- Dont just try to patch up things. He think about downstream systems and entire Architecture\n",
        "*   Ability to code, Opertions, Agile\n",
        "*   It is not a product, specification, or job title, but a decentralized experienced-based movement.\n",
        "*   https://www.reddit.com/r/homelab/\n",
        "\n",
        "\n",
        "*   List item\n",
        "*   List item\n",
        "\n",
        "\n",
        "\n",
        "\n",
        "\n",
        "\n",
        "\n",
        "\n",
        "\n",
        "\n",
        "\n",
        "\n",
        "\n",
        "\n",
        "\n",
        "\n",
        "\n"
      ]
    },
    {
      "cell_type": "code",
      "metadata": {
        "id": "NNXu6NsGxm82"
      },
      "source": [
        ""
      ],
      "execution_count": null,
      "outputs": []
    },
    {
      "cell_type": "markdown",
      "metadata": {
        "id": "yoNnWdKvn8gb"
      },
      "source": [
        "# AWS\n",
        "200873232482\n",
        "\n",
        "Root User :- Goutham_aws\n",
        "\n",
        "User 1:- Goutham_User\n",
        "\n",
        "Shared Responsiblity covers most of the Questions\n",
        "\n",
        "if user1 wants to set Budget alerts then he needs a special premission from root user. that special is available in account settings of root user.\n"
      ]
    },
    {
      "cell_type": "code",
      "metadata": {
        "id": "ePHrNWtpoABq"
      },
      "source": [
        "Boot Strap Script\n",
        "\n",
        "#!/bin/bash\n",
        "# Use this for your user data (script from top to bottom)\n",
        "# install httpd (Linux 2 version)\n",
        "yum update -y\n",
        "yum install -y httpd\n",
        "systemctl start httpd\n",
        "systemctl enable httpd\n",
        "echo \"<h1>Hello World from $(hostname -f)</h1>\" > /var/www/html/index.html"
      ],
      "execution_count": null,
      "outputs": []
    },
    {
      "cell_type": "markdown",
      "metadata": {
        "id": "jqToxQUT071I"
      },
      "source": [
        "# Interview\n",
        "\n",
        "*   Binary, Octa and Hexadecimal\n",
        "*   List item\n",
        "\n",
        "\n"
      ]
    },
    {
      "cell_type": "code",
      "metadata": {
        "id": "-oeMdYFF1EZP"
      },
      "source": [
        ""
      ],
      "execution_count": null,
      "outputs": []
    },
    {
      "cell_type": "markdown",
      "metadata": {
        "id": "wAgwGo5TnhPK"
      },
      "source": [
        "# Questions Raised\n",
        "\n",
        "*   How to add images to Colab\n",
        "*   What is init.d in Linux Service Management? \n",
        "      https://www.geeksforgeeks.org/what-is-init-d-in-linux-service-management/\n",
        "      https://unix.stackexchange.com/questions/20357/how-can-i-make-a-script-in-etc-init-d-start-at-boot\n",
        "\n",
        "My Version:- Scripts available in \"Intid\" direstory are executed first as soon as linux is tirggered.\n",
        "\n",
        "*   What is systemd\n",
        "*   Difference between systemd and initd\n",
        "\n",
        "\n",
        "\n",
        "*   Program vs Process :-https://www.geeksforgeeks.org/introduction-of-process-management/\n",
        "*   Process Management in Linux :- https://www.geeksforgeeks.org/process-management-in-linux/\n",
        "\n",
        "\n",
        "\n",
        "*   how to iterate through [[],[],[]] using python\n",
        "*   List item\n",
        "\n",
        "\n",
        "\n",
        "*   List item\n",
        "*   List item\n",
        "\n",
        "\n",
        "\n",
        "\n",
        "\n",
        "\n"
      ]
    }
  ]
}