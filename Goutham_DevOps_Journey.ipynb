{
  "nbformat": 4,
  "nbformat_minor": 0,
  "metadata": {
    "colab": {
      "name": "Copy of Goutham_DevOps_Journey.ipynb",
      "provenance": [],
      "collapsed_sections": [],
      "toc_visible": true,
      "include_colab_link": true
    },
    "kernelspec": {
      "name": "python3",
      "display_name": "Python 3"
    },
    "language_info": {
      "name": "python"
    }
  },
  "cells": [
    {
      "cell_type": "markdown",
      "metadata": {
        "id": "view-in-github",
        "colab_type": "text"
      },
      "source": [
        "<a href=\"https://colab.research.google.com/github/GKPythonDevOps/Colab-DevOps-Jorney/blob/learning_branch_7906871/Goutham_DevOps_Journey.ipynb\" target=\"_parent\"><img src=\"https://colab.research.google.com/assets/colab-badge.svg\" alt=\"Open In Colab\"/></a>"
      ]
    },
    {
      "cell_type": "markdown",
      "metadata": {
        "id": "wOdhjMyeubcE"
      },
      "source": [
        "#DevOps\n",
        "\n",
        "This is my Colab DevOps NoteBook\n",
        "\n",
        "DevOps RoadMap\n",
        "\n",
        "![picture](https://drive.google.com/uc?id=141yAgJtsrvlMmABLRzDVCNtz5CBVxNYR)"
      ]
    },
    {
      "cell_type": "markdown",
      "metadata": {
        "id": "YfGQHYNc7Hud"
      },
      "source": [
        "*   DevOps right now is a buzz word with lot of misconceptions\n",
        "\n",
        "*   Collabration\n",
        "*   Continuos Feedback (Customer, Teams())\n",
        "\n",
        "\n",
        "*   Lean Devlopment/Management\n",
        "*   DevOps Culture/Mindset\n",
        "\n",
        "\n",
        "\n",
        "\n",
        "*   There's no Specific Explanation or Process for DevOps\n",
        "*   DevOps means best Practices followed or to be followed\n",
        "*   Home Lab(Production like Environment) for Handson\n",
        "*   AAA (Attitude, Apptitude, Awareness)\n",
        "*   Who is Customer --> What is the Business ---> What value does it add to our organisation\n",
        "*   To write an application from Scratch, Automation\n",
        "*   SR.DevOps :- Dont just try to patch up things. He think about downstream systems and entire Architecture\n",
        "*   Ability to code, Opertions, Agile\n",
        "*   It is not a product, specification, or job title, but a decentralized experienced-based movement.\n",
        "*   https://www.reddit.com/r/homelab/\n",
        "\n",
        "\n",
        "*   List item\n",
        "*   List item\n",
        "\n",
        "\n",
        "\n",
        "\n",
        "\n",
        "\n",
        "\n",
        "\n",
        "\n",
        "\n",
        "\n",
        "\n",
        "\n",
        "\n",
        "\n",
        "\n",
        "\n"
      ]
    },
    {
      "cell_type": "code",
      "metadata": {
        "id": "NNXu6NsGxm82"
      },
      "source": [
        ""
      ],
      "execution_count": null,
      "outputs": []
    },
    {
      "cell_type": "markdown",
      "metadata": {
        "id": "oOqA7XPX0_es"
      },
      "source": [
        "## DevOps Lessons\n",
        "\n",
        "\n",
        "\n",
        "*   Difference Between continuous Delivery and Deployment.\n",
        "*   Jenkins Runs on Port 8080. So in Ec2 Instance Security group Port 8080 must be enabled.\n",
        "\n",
        "\n",
        "*   Ec2 Instance, Connect, Uses Port 22\n",
        "*   IAMReadOnlyAccess --> role for Ec2 intance Connect\n",
        "\n",
        "\n",
        "*   sudo su -\n",
        "*   List item\n",
        "\n",
        "\n",
        "\n",
        "\n",
        "\n"
      ]
    },
    {
      "cell_type": "markdown",
      "metadata": {
        "id": "yoNnWdKvn8gb"
      },
      "source": [
        "# AWS\n",
        "200873232482\n",
        "\n",
        "Root User :- Goutham_aws\n",
        "\n",
        "User 1:- Goutham_User\n",
        "\n",
        "Shared Responsiblity covers most of the Questions\n",
        "\n",
        "if user1 wants to set Budget alerts then he needs a special premission from root user. that special is available in account settings of root user.\n"
      ]
    },
    {
      "cell_type": "markdown",
      "metadata": {
        "id": "5HkJqgVoOhe7"
      },
      "source": [
        "### To install Jenkins in EC2 Instance\n",
        "\n",
        "Install Jenkins on AWS EC2\n",
        "Jenkins is a self-contained Java-based program, ready to run out-of-the-box, with packages for Windows, Mac OS X and other Unix-like operating systems. As an extensible automation server, Jenkins can be used as a simple CI server or turned into the continuous delivery hub for any project.\n",
        "\n",
        "Prerequisites\n",
        "EC2 Instance\n",
        "With Internet Access\n",
        "Security Group with Port 8080 open for internet\n",
        "Java 11 should be installed\n",
        "Install Jenkins\n",
        "You can install jenkins using the rpm or by setting up the repo. We will set up the repo so that we can update it easily in the future.\n",
        "\n",
        "Get the latest version of jenkins from https://pkg.jenkins.io/redhat-stable/ and install\n",
        "\n",
        "#on Ec2\n",
        "#sudo wget -O /etc/yum.repos.d/jenkins.repo https://pkg.jenkins.io/redhat-stable/jenkins.repo\n",
        "#sudo rpm --import https://pkg.jenkins.io/redhat-stable/jenkins.io.key\n",
        "#amazon-linux-extras install epel \n",
        "#amazon-linux-extras install java-openjdk11  \n",
        "#yum install jenkins\n",
        "#service jenkins start\n",
        "#chkconfig jenkins on (--Setup Jenkins to start at boot,)\n",
        "#readlink -f $(which java) (to get java location)\n",
        "#export JAVA_HOME=$(dirname $(readlink -f $(which java))|sed 's^jre/bin^^')  (to add java to bash profile)\n",
        "\n",
        "Accessing Jenkins\n",
        "By default jenkins runs at port 8080, You can access jenkins at\n",
        "\n",
        "http://YOUR-SERVER-PUBLIC-IP:8080\n",
        "Configure Jenkins\n",
        "The default Username is admin\n",
        "Grab the default password\n",
        "Password Location:/var/lib/jenkins/secrets/initialAdminPassword\n",
        "Skip Plugin Installation; We can do it later\n",
        "Change admin password\n",
        "Admin > Configure > Password\n",
        "Configure java path\n",
        "Manage Jenkins > Global Tool Configuration > JDK\n",
        "Create another admin user id\n",
        "Test Jenkins Jobs\n",
        "Create “new item”\n",
        "Enter an item name – My-First-Project\n",
        "Chose Freestyle project\n",
        "Under the Build section Execute shell: echo \"Welcome to Jenkins Demo\"\n",
        "Save your job\n",
        "Build job\n",
        "Check \"console output\""
      ]
    },
    {
      "cell_type": "code",
      "metadata": {
        "id": "ePHrNWtpoABq"
      },
      "source": [
        "Boot Strap Script\n",
        "\n",
        "#!/bin/bash\n",
        "# Use this for your user data (script from top to bottom)\n",
        "# install httpd (Linux 2 version)\n",
        "yum update -y\n",
        "yum install -y httpd\n",
        "systemctl start httpd\n",
        "systemctl enable httpd\n",
        "echo \"<h1>Hello World from $(hostname -f)</h1>\" > /var/www/html/index.html"
      ],
      "execution_count": null,
      "outputs": []
    },
    {
      "cell_type": "markdown",
      "metadata": {
        "id": "jqToxQUT071I"
      },
      "source": [
        "# Interview\n",
        "\n",
        "*   Binary, Octa and Hexadecimal\n",
        "*   Instance attribute > class attribute\n",
        "\n",
        "\n",
        "*   Abstraction and Encapsulation\n",
        "      l.append(\"foo\")\n",
        "      append ==  abstraction\n",
        "      append mechanisam = Encapsulation\n",
        "*   Multiple Inheritance vs Multilevel inheritance\n",
        "\n",
        "\n",
        "*   difference between public, private, protected\n",
        "*   what is name mangling\n",
        "\n",
        "\n",
        "*   Define Polymorphism(many forms), Overriding and Super()\n",
        "*   what is daimond shape problem\n",
        "\n",
        "\n",
        "*   Operator overloading\n",
        "*   Abstract base class(ABC) ----> Table of contents in book\n",
        "\n",
        "\n",
        "*   Linked List -------> Train(one compartment conncted to another compartment)\n",
        "*   List item\n",
        "\n",
        "\n",
        "\n",
        "\n",
        "\n",
        "\n",
        "\n",
        "\n",
        "\n",
        "\n",
        "\n",
        "\n"
      ]
    },
    {
      "cell_type": "code",
      "metadata": {
        "id": "-oeMdYFF1EZP",
        "colab": {
          "base_uri": "https://localhost:8080/",
          "height": 195
        },
        "outputId": "6e44bb6a-3d8b-4d27-ad67-7b654934b6f3"
      },
      "source": [
        "#Defining the use case for self parameter\n",
        "\n",
        "class Employee:\n",
        "\n",
        "  def details_of_employee():\n",
        "    pass\n",
        "\n",
        "goutham = Employee()\n",
        "goutham.details_of_employee()\n",
        "# why we will get type error????\n",
        "# python interprests last step as \n",
        "# Employee.details_of_employee(goutham)"
      ],
      "execution_count": null,
      "outputs": [
        {
          "output_type": "error",
          "ename": "TypeError",
          "evalue": "ignored",
          "traceback": [
            "\u001b[0;31m---------------------------------------------------------------------------\u001b[0m",
            "\u001b[0;31mTypeError\u001b[0m                                 Traceback (most recent call last)",
            "\u001b[0;32m<ipython-input-1-0ea7d3a5fe8f>\u001b[0m in \u001b[0;36m<module>\u001b[0;34m()\u001b[0m\n\u001b[1;32m      7\u001b[0m \u001b[0;34m\u001b[0m\u001b[0m\n\u001b[1;32m      8\u001b[0m \u001b[0mgoutham\u001b[0m \u001b[0;34m=\u001b[0m \u001b[0mEmployee\u001b[0m\u001b[0;34m(\u001b[0m\u001b[0;34m)\u001b[0m\u001b[0;34m\u001b[0m\u001b[0;34m\u001b[0m\u001b[0m\n\u001b[0;32m----> 9\u001b[0;31m \u001b[0mgoutham\u001b[0m\u001b[0;34m.\u001b[0m\u001b[0mdetails_of_employee\u001b[0m\u001b[0;34m(\u001b[0m\u001b[0;34m)\u001b[0m\u001b[0;34m\u001b[0m\u001b[0;34m\u001b[0m\u001b[0m\n\u001b[0m",
            "\u001b[0;31mTypeError\u001b[0m: details_of_employee() takes 0 positional arguments but 1 was given"
          ]
        }
      ]
    },
    {
      "cell_type": "code",
      "metadata": {
        "id": "rNogfT5fzKyb"
      },
      "source": [
        "#1) How to access class attribute inside a function details_of_employee\n",
        "#2) How to access class attribute using object (obj)\n",
        "# what is mean by fully initialized object\n",
        "class Employee:\n",
        "    age = 20\n",
        "    name = \"Trisha\" #class attribute\n",
        "\n",
        "    #WTF is this\n",
        "    def __init__(self) -> None:\n",
        "        print(\"Hi Babes\")\n",
        "\n",
        "    #this is instance method\n",
        "    def details_of_employee(self):\n",
        "      # this is instance attribute\n",
        "      self.name = \"Tamanna\" #3) what is the lifespan of this variavble\n",
        "      nickname = \"hotty\" #4) what is the lifespan of this varibale how it is different from self.name\n",
        "      \n",
        "      print(self.name)\n",
        "      print(age) #1)\n",
        "\n",
        "    def details_of_employee1(self):\n",
        "      print(self.name)\n",
        "      print(age) #1)\n",
        "      #5) how to access \"nickname\" in this function\n",
        "\n",
        "    #how to access this method using instance object\n",
        "    #how to access this method without using instance object  \n",
        "    def welcome():\n",
        "       print(\"Welcome to hottest girls company in the world\")\n",
        "\n",
        "    def first_name(self):\n",
        "        self.first = \"white Queen\"\n",
        "    \n",
        "    def display_first_name(self):\n",
        "        print(self.first)\n",
        "\n",
        "Employee.welcome() #why this is not an error\n",
        "obj = Employee()\n",
        "obj.welcome() #why this is an error. if this an error how to resolve it???\n",
        "print(obj.name) # why out put of this is Trisha\n",
        "#2)??\n",
        "obj.name=\"Anuskha\" #This is instance attribute. what is mean by instance attribute > class attribute\n",
        "obj.name # this is class atribute. how is this idfferent from above statement\n",
        "obj.details_of_employee()\n",
        "print(obj.name) # why out put of this is Tamanna\n",
        "obj.display_first_name() #why this is an error. if this an error how to reolve it??? what are the different ways to resolve it??"
      ],
      "execution_count": null,
      "outputs": []
    },
    {
      "cell_type": "code",
      "metadata": {
        "id": "50foNxyXo5HD"
      },
      "source": [
        "\n",
        "#Public = google (Everybody can access)\n",
        "#Protected = _whatsapp( Only class and Derived class)\n",
        "#Private = __gmail(only class)\n",
        "\n",
        "class internet():\n",
        "    search = \"google\"\n",
        "    _message = \"whatsapp\"\n",
        "    __account = \"gmail\"\n",
        "\n",
        "\n",
        "class tv(internet):\n",
        "    def __init__(self) -> None:\n",
        "        _search = self._message\n",
        "        print(_search)\n",
        "\n",
        "\n",
        "net = internet()\n",
        "\n",
        "print(net.search)\n",
        "print(net._message) # this is accessable but should not be used like this only derived class should access\n",
        "print(net.__account) # this throws an error how to overcome this issue. hwo python reads this statement???\n",
        "\n",
        "tb = tv()"
      ],
      "execution_count": null,
      "outputs": []
    },
    {
      "cell_type": "markdown",
      "metadata": {
        "id": "wAgwGo5TnhPK"
      },
      "source": [
        "# Questions Raised\n",
        "\n",
        "*   How to add images to Colab\n",
        "*   What is init.d in Linux Service Management? \n",
        "      https://www.geeksforgeeks.org/what-is-init-d-in-linux-service-management/\n",
        "      https://unix.stackexchange.com/questions/20357/how-can-i-make-a-script-in-etc-init-d-start-at-boot\n",
        "\n",
        "My Version:- Scripts available in \"Intid\" direstory are executed first as soon as linux is tirggered.\n",
        "\n",
        "*   What is systemd\n",
        "*   Difference between systemd and initd\n",
        "\n",
        "\n",
        "\n",
        "*   Program vs Process :-https://www.geeksforgeeks.org/introduction-of-process-management/\n",
        "*   Process Management in Linux :- https://www.geeksforgeeks.org/process-management-in-linux/\n",
        "\n",
        "\n",
        "\n",
        "*   how to iterate through [[],[],[]] using python\n",
        "*   what is culture? Change in mindset\n",
        "\n",
        "\n",
        "\n",
        "*   List item\n",
        "*   List item\n",
        "\n",
        "\n",
        "\n",
        "\n",
        "\n",
        "\n"
      ]
    },
    {
      "cell_type": "code",
      "metadata": {
        "id": "JCKjknkB5F6s"
      },
      "source": [
        ""
      ],
      "execution_count": null,
      "outputs": []
    },
    {
      "cell_type": "markdown",
      "metadata": {
        "id": "eY1DzuuzQuDC"
      },
      "source": [
        "# Jenkins\n",
        "\n",
        "\n",
        "\n",
        "*   Job is a class and Build is an Object\n",
        "*   Polling:- H/5**** to distribute workload. Cron Syntax\n",
        "\n",
        "\n",
        "*   Java(Backend) --> Gradle, Maven, Ant\n",
        "*   Javascript(Frontend) ---> npm, yarn\n",
        "\n",
        "\n",
        "\n"
      ]
    },
    {
      "cell_type": "markdown",
      "metadata": {
        "id": "wEbrSkKnAyFd"
      },
      "source": [
        "#GitHub\n",
        "Configurations :- System level(all the users on the system), GLobal Level(user account level), Local(default)(repository level)\n",
        "\n",
        "##To store name and email address automatically in commits\n",
        "git config --global core.autocrlf true ---> windows git config --global core.autocrlf input ---> mac/linux"
      ]
    },
    {
      "cell_type": "markdown",
      "metadata": {
        "id": "fPZAdx_RRTeY"
      },
      "source": [
        "# GCP"
      ]
    },
    {
      "cell_type": "markdown",
      "metadata": {
        "id": "h7DhR4G_PCMu"
      },
      "source": [
        "##Cautions\n",
        "\n",
        "1) GCP will update Base image only. Once deployed User as to take care of updates"
      ]
    },
    {
      "cell_type": "markdown",
      "metadata": {
        "id": "JYHXuFPnRW_l"
      },
      "source": [
        "## Assocaite Cloud Engineer\n",
        "\n",
        "Google CLoud Offers : [Compute, Storage, Bigdata, ML]\n",
        "*   Projects uses Resources from GCP Services\n",
        "*   IAAS :- pay for infrastructure requested\n",
        "*   PAAS :- pay for infrastructue which is going to be used\n",
        "*   must learn policy heirachy\n",
        "*   Why might a GCP customer use resources in several zones within a region?\n",
        "*   What type of cloud computing service lets you bind your application code to libraries that give access to the infrastructure your application needs\n",
        "*   What kind of customer benefits most from billing by the second for cloud resources such as virtual machines?\n",
        "* In GCP, Try Online Calculator for each resource to know billing cost\n",
        "*   Choose the correct completion: Services and APIs are enabled on a per-__________ basis\n",
        "*   List item\n",
        "\n"
      ]
    },
    {
      "cell_type": "code",
      "metadata": {
        "id": "uAx5PBnbUzJn"
      },
      "source": [
        ""
      ],
      "execution_count": null,
      "outputs": []
    },
    {
      "cell_type": "markdown",
      "metadata": {
        "id": "j1yHmpGNUajZ"
      },
      "source": [
        "# Experiences\n",
        "\n",
        "*   Least Privilage\n",
        "*   In GIT, create users and for each user provide permission to a specific branch only to overcome merge conflicts.\n",
        "\"This branch is 2 commits ahead, 1 commit behind main.\"\n",
        "*   Try as much as possible to keep main branch clean."
      ]
    },
    {
      "cell_type": "code",
      "metadata": {
        "id": "yw5Z_qP_U9Uc"
      },
      "source": [
        ""
      ],
      "execution_count": null,
      "outputs": []
    }
  ]
}